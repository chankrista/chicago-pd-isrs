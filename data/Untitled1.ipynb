{
 "cells": [
  {
   "cell_type": "code",
   "execution_count": 1,
   "metadata": {},
   "outputs": [],
   "source": [
    "import pandas as pd"
   ]
  },
  {
   "cell_type": "code",
   "execution_count": 2,
   "metadata": {},
   "outputs": [],
   "source": [
    "isrs = pd.read_csv(\"isrs_clean.csv\")"
   ]
  },
  {
   "cell_type": "code",
   "execution_count": 3,
   "metadata": {},
   "outputs": [
    {
     "data": {
      "text/html": [
       "<div>\n",
       "<style scoped>\n",
       "    .dataframe tbody tr th:only-of-type {\n",
       "        vertical-align: middle;\n",
       "    }\n",
       "\n",
       "    .dataframe tbody tr th {\n",
       "        vertical-align: top;\n",
       "    }\n",
       "\n",
       "    .dataframe thead th {\n",
       "        text-align: right;\n",
       "    }\n",
       "</style>\n",
       "<table border=\"1\" class=\"dataframe\">\n",
       "  <thead>\n",
       "    <tr style=\"text-align: right;\">\n",
       "      <th></th>\n",
       "      <th>Unnamed: 0</th>\n",
       "      <th>AGE</th>\n",
       "      <th>BEAT</th>\n",
       "      <th>BODY_CAMERA_I</th>\n",
       "      <th>CITY</th>\n",
       "      <th>CONTACT_DATE</th>\n",
       "      <th>CPD_UNIT_NO</th>\n",
       "      <th>CREATED_BY</th>\n",
       "      <th>DISTRICT</th>\n",
       "      <th>PAT_DOWN_I</th>\n",
       "      <th>RACE_CODE_CD</th>\n",
       "      <th>SEX_CODE_CD</th>\n",
       "      <th>year</th>\n",
       "      <th>month_year</th>\n",
       "      <th>Y</th>\n",
       "      <th>X</th>\n",
       "    </tr>\n",
       "  </thead>\n",
       "  <tbody>\n",
       "    <tr>\n",
       "      <td>0</td>\n",
       "      <td>0</td>\n",
       "      <td>30.0</td>\n",
       "      <td>2523.0</td>\n",
       "      <td>Y</td>\n",
       "      <td>CHICAGO</td>\n",
       "      <td>1/1/2018 0:08</td>\n",
       "      <td>25</td>\n",
       "      <td>NaN</td>\n",
       "      <td>25.0</td>\n",
       "      <td>N</td>\n",
       "      <td>WWH</td>\n",
       "      <td>M</td>\n",
       "      <td>2018</td>\n",
       "      <td>1/1/2018</td>\n",
       "      <td>41.934539</td>\n",
       "      <td>-87.728850</td>\n",
       "    </tr>\n",
       "    <tr>\n",
       "      <td>1</td>\n",
       "      <td>2</td>\n",
       "      <td>20.0</td>\n",
       "      <td>2523.0</td>\n",
       "      <td>Y</td>\n",
       "      <td>CHICAGO</td>\n",
       "      <td>1/1/2018 0:08</td>\n",
       "      <td>25</td>\n",
       "      <td>NaN</td>\n",
       "      <td>25.0</td>\n",
       "      <td>N</td>\n",
       "      <td>WWH</td>\n",
       "      <td>M</td>\n",
       "      <td>2018</td>\n",
       "      <td>1/1/2018</td>\n",
       "      <td>41.934539</td>\n",
       "      <td>-87.728850</td>\n",
       "    </tr>\n",
       "    <tr>\n",
       "      <td>2</td>\n",
       "      <td>4</td>\n",
       "      <td>23.0</td>\n",
       "      <td>2523.0</td>\n",
       "      <td>Y</td>\n",
       "      <td>CHICAGO</td>\n",
       "      <td>1/1/2018 0:08</td>\n",
       "      <td>25</td>\n",
       "      <td>NaN</td>\n",
       "      <td>25.0</td>\n",
       "      <td>N</td>\n",
       "      <td>WWH</td>\n",
       "      <td>M</td>\n",
       "      <td>2018</td>\n",
       "      <td>1/1/2018</td>\n",
       "      <td>41.934539</td>\n",
       "      <td>-87.728850</td>\n",
       "    </tr>\n",
       "    <tr>\n",
       "      <td>3</td>\n",
       "      <td>6</td>\n",
       "      <td>23.0</td>\n",
       "      <td>2511.0</td>\n",
       "      <td>N</td>\n",
       "      <td>CHICAGO</td>\n",
       "      <td>1/1/2018 0:10</td>\n",
       "      <td>313</td>\n",
       "      <td>NaN</td>\n",
       "      <td>25.0</td>\n",
       "      <td>Y</td>\n",
       "      <td>WWH</td>\n",
       "      <td>M</td>\n",
       "      <td>2018</td>\n",
       "      <td>1/1/2018</td>\n",
       "      <td>41.932045</td>\n",
       "      <td>-87.788137</td>\n",
       "    </tr>\n",
       "    <tr>\n",
       "      <td>4</td>\n",
       "      <td>8</td>\n",
       "      <td>27.0</td>\n",
       "      <td>724.0</td>\n",
       "      <td>Y</td>\n",
       "      <td>CHICAGO</td>\n",
       "      <td>1/1/2018 0:30</td>\n",
       "      <td>7</td>\n",
       "      <td>NaN</td>\n",
       "      <td>7.0</td>\n",
       "      <td>Y</td>\n",
       "      <td>BLK</td>\n",
       "      <td>M</td>\n",
       "      <td>2018</td>\n",
       "      <td>1/1/2018</td>\n",
       "      <td>41.777352</td>\n",
       "      <td>-87.652049</td>\n",
       "    </tr>\n",
       "  </tbody>\n",
       "</table>\n",
       "</div>"
      ],
      "text/plain": [
       "   Unnamed: 0   AGE    BEAT BODY_CAMERA_I     CITY   CONTACT_DATE  \\\n",
       "0           0  30.0  2523.0             Y  CHICAGO  1/1/2018 0:08   \n",
       "1           2  20.0  2523.0             Y  CHICAGO  1/1/2018 0:08   \n",
       "2           4  23.0  2523.0             Y  CHICAGO  1/1/2018 0:08   \n",
       "3           6  23.0  2511.0             N  CHICAGO  1/1/2018 0:10   \n",
       "4           8  27.0   724.0             Y  CHICAGO  1/1/2018 0:30   \n",
       "\n",
       "   CPD_UNIT_NO  CREATED_BY  DISTRICT PAT_DOWN_I RACE_CODE_CD SEX_CODE_CD  \\\n",
       "0           25         NaN      25.0          N          WWH           M   \n",
       "1           25         NaN      25.0          N          WWH           M   \n",
       "2           25         NaN      25.0          N          WWH           M   \n",
       "3          313         NaN      25.0          Y          WWH           M   \n",
       "4            7         NaN       7.0          Y          BLK           M   \n",
       "\n",
       "   year month_year          Y          X  \n",
       "0  2018   1/1/2018  41.934539 -87.728850  \n",
       "1  2018   1/1/2018  41.934539 -87.728850  \n",
       "2  2018   1/1/2018  41.934539 -87.728850  \n",
       "3  2018   1/1/2018  41.932045 -87.788137  \n",
       "4  2018   1/1/2018  41.777352 -87.652049  "
      ]
     },
     "execution_count": 3,
     "metadata": {},
     "output_type": "execute_result"
    }
   ],
   "source": [
    "isrs.head()"
   ]
  },
  {
   "cell_type": "code",
   "execution_count": 6,
   "metadata": {},
   "outputs": [],
   "source": [
    "isrs = isrs.groupby([\"month_year\", \"DISTRICT\", \"BODY_CAMERA_I\"]).count().reset_index()[[\"month_year\", \"DISTRICT\", \"BODY_CAMERA_I\", \"Unnamed: 0\"]]"
   ]
  },
  {
   "cell_type": "code",
   "execution_count": 9,
   "metadata": {},
   "outputs": [],
   "source": [
    "isrs.rename(columns={\"Unnamed: 0\": \"count\"}).to_csv(\"isrs_clean.csv\")"
   ]
  },
  {
   "cell_type": "code",
   "execution_count": 2,
   "metadata": {},
   "outputs": [],
   "source": [
    "crimes = pd.read_csv(\"crimes_16-18.csv\")"
   ]
  },
  {
   "cell_type": "code",
   "execution_count": 3,
   "metadata": {},
   "outputs": [
    {
     "data": {
      "text/html": [
       "<div>\n",
       "<style scoped>\n",
       "    .dataframe tbody tr th:only-of-type {\n",
       "        vertical-align: middle;\n",
       "    }\n",
       "\n",
       "    .dataframe tbody tr th {\n",
       "        vertical-align: top;\n",
       "    }\n",
       "\n",
       "    .dataframe thead th {\n",
       "        text-align: right;\n",
       "    }\n",
       "</style>\n",
       "<table border=\"1\" class=\"dataframe\">\n",
       "  <thead>\n",
       "    <tr style=\"text-align: right;\">\n",
       "      <th></th>\n",
       "      <th>id</th>\n",
       "      <th>date</th>\n",
       "      <th>primary_type</th>\n",
       "      <th>district</th>\n",
       "      <th>year</th>\n",
       "    </tr>\n",
       "  </thead>\n",
       "  <tbody>\n",
       "    <tr>\n",
       "      <td>0</td>\n",
       "      <td>11993202</td>\n",
       "      <td>2016-03-09T00:00:00.000</td>\n",
       "      <td>DECEPTIVE PRACTICE</td>\n",
       "      <td>4.0</td>\n",
       "      <td>2016</td>\n",
       "    </tr>\n",
       "    <tr>\n",
       "      <td>1</td>\n",
       "      <td>10380921</td>\n",
       "      <td>2016-01-15T14:05:00.000</td>\n",
       "      <td>ROBBERY</td>\n",
       "      <td>17.0</td>\n",
       "      <td>2016</td>\n",
       "    </tr>\n",
       "    <tr>\n",
       "      <td>2</td>\n",
       "      <td>10578324</td>\n",
       "      <td>2016-06-23T12:11:00.000</td>\n",
       "      <td>NARCOTICS</td>\n",
       "      <td>7.0</td>\n",
       "      <td>2016</td>\n",
       "    </tr>\n",
       "    <tr>\n",
       "      <td>3</td>\n",
       "      <td>11972987</td>\n",
       "      <td>2016-10-18T11:15:00.000</td>\n",
       "      <td>DECEPTIVE PRACTICE</td>\n",
       "      <td>6.0</td>\n",
       "      <td>2016</td>\n",
       "    </tr>\n",
       "    <tr>\n",
       "      <td>4</td>\n",
       "      <td>11970756</td>\n",
       "      <td>2016-03-03T00:01:00.000</td>\n",
       "      <td>DECEPTIVE PRACTICE</td>\n",
       "      <td>4.0</td>\n",
       "      <td>2016</td>\n",
       "    </tr>\n",
       "  </tbody>\n",
       "</table>\n",
       "</div>"
      ],
      "text/plain": [
       "         id                     date        primary_type  district  year\n",
       "0  11993202  2016-03-09T00:00:00.000  DECEPTIVE PRACTICE       4.0  2016\n",
       "1  10380921  2016-01-15T14:05:00.000             ROBBERY      17.0  2016\n",
       "2  10578324  2016-06-23T12:11:00.000           NARCOTICS       7.0  2016\n",
       "3  11972987  2016-10-18T11:15:00.000  DECEPTIVE PRACTICE       6.0  2016\n",
       "4  11970756  2016-03-03T00:01:00.000  DECEPTIVE PRACTICE       4.0  2016"
      ]
     },
     "execution_count": 3,
     "metadata": {},
     "output_type": "execute_result"
    }
   ],
   "source": [
    "crimes.head()"
   ]
  },
  {
   "cell_type": "code",
   "execution_count": 10,
   "metadata": {},
   "outputs": [],
   "source": [
    "crimes['month_year'] = crimes.apply(lambda x: x['date'][:7], axis=1)"
   ]
  },
  {
   "cell_type": "code",
   "execution_count": 7,
   "metadata": {},
   "outputs": [
    {
     "data": {
      "text/plain": [
       "id                int64\n",
       "date             object\n",
       "primary_type     object\n",
       "district        float64\n",
       "year              int64\n",
       "month_year       object\n",
       "dtype: object"
      ]
     },
     "execution_count": 7,
     "metadata": {},
     "output_type": "execute_result"
    }
   ],
   "source": [
    "crimes.dtypes"
   ]
  },
  {
   "cell_type": "code",
   "execution_count": 17,
   "metadata": {},
   "outputs": [],
   "source": [
    "crimes.groupby(['month_year', 'district', 'year']).count().reset_index()[['month_year', 'district', 'year', 'id']].rename(columns={'id': 'count'}).to_csv(\"crimes_16-18.csv\")"
   ]
  }
 ],
 "metadata": {
  "kernelspec": {
   "display_name": "Python 3",
   "language": "python",
   "name": "python3"
  },
  "language_info": {
   "codemirror_mode": {
    "name": "ipython",
    "version": 3
   },
   "file_extension": ".py",
   "mimetype": "text/x-python",
   "name": "python",
   "nbconvert_exporter": "python",
   "pygments_lexer": "ipython3",
   "version": "3.7.4"
  }
 },
 "nbformat": 4,
 "nbformat_minor": 2
}
